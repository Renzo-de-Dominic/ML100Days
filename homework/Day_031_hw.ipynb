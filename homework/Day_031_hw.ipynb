{
 "cells": [
  {
   "cell_type": "code",
   "execution_count": 2,
   "metadata": {},
   "outputs": [
    {
     "name": "stdout",
     "output_type": "stream",
     "text": [
      "男性\n",
      "女生的機率 0.35714285714285715\n",
      "沒有，因為男生長髮占總數明顯較多\n"
     ]
    }
   ],
   "source": [
    "#Q1：所以根據這個情況條件下。你會預測照片中的長髮是男性或女性？ (直覺回答)\n",
    "print(\"男性\")\n",
    "\n",
    "\n",
    "#Q2：以下圖資料，計算當你看到長髮時，是女生的機率？\n",
    "a=((5/10)*(10/100))/(((5/10)*(10/100))+((9/90)*(90/100)))\n",
    "print(\"女生的機率\",a)\n",
    "\n",
    "#Q3：你的決策因為男生女生比例不同 (先驗分配不同)，決策有沒有改變？\n",
    "print(\"沒有，因為男生長髮占總數明顯較多\")"
   ]
  },
  {
   "cell_type": "code",
   "execution_count": null,
   "metadata": {},
   "outputs": [],
   "source": []
  }
 ],
 "metadata": {
  "kernelspec": {
   "display_name": "Python 3",
   "language": "python",
   "name": "python3"
  },
  "language_info": {
   "codemirror_mode": {
    "name": "ipython",
    "version": 3
   },
   "file_extension": ".py",
   "mimetype": "text/x-python",
   "name": "python",
   "nbconvert_exporter": "python",
   "pygments_lexer": "ipython3",
   "version": "3.8.5"
  }
 },
 "nbformat": 4,
 "nbformat_minor": 4
}
