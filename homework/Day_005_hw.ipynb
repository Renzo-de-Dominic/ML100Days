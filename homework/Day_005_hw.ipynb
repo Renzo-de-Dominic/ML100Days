{
 "cells": [
  {
   "cell_type": "code",
   "execution_count": 1,
   "metadata": {},
   "outputs": [],
   "source": [
    "import numpy as np"
   ]
  },
  {
   "cell_type": "code",
   "execution_count": 2,
   "metadata": {},
   "outputs": [],
   "source": [
    "english_score = np.array([55,89,76,65,48,70])\n",
    "\n",
    "math_score = np.array([60,85,60,68,np.nan,60])\n",
    "\n",
    "chinese_score = np.array([65,90,82,72,66,77])"
   ]
  },
  {
   "cell_type": "code",
   "execution_count": 12,
   "metadata": {},
   "outputs": [
    {
     "name": "stdout",
     "output_type": "stream",
     "text": [
      "Average English score is 67.16666666666667\n",
      "Maximum English score is 89\n",
      "Minimum English score is 48\n",
      "Standard variation of English score is 13.433995020924426\n",
      "Average Math score is 66.6\n",
      "Maximum Math score is 85.0\n",
      "Minimum Math score is 60.0\n",
      "Standard variation of Math score is 9.707728879609279\n",
      "Average Chinese score is 75.33333333333333\n",
      "Maximum Chinese score is 90\n",
      "Minimum Chinese score is 65\n",
      "Standard variation of Chinese score is 8.825468196582484\n"
     ]
    }
   ],
   "source": [
    "print(\"Average English score is\",np.mean(english_score))\n",
    "print('Maximum English score is',np.amax(english_score))\n",
    "print('Minimum English score is',np.amin(english_score))\n",
    "print('Standard variation of English score is',np.std(english_score))\n",
    "\n",
    "print('Average Math score is',np.nanmean(math_score))\n",
    "print('Maximum Math score is',np.nanmax(math_score))\n",
    "print('Minimum Math score is',np.nanmin(math_score))\n",
    "print('Standard variation of Math score is',np.nanstd(math_score))\n",
    "\n",
    "print('Average Chinese score is',np.mean(chinese_score))\n",
    "print('Maximum Chinese score is',np.amax(chinese_score))\n",
    "print('Minimum Chinese score is',np.amin(chinese_score))\n",
    "print('Standard variation of Chinese score is',np.std(chinese_score))"
   ]
  },
  {
   "cell_type": "code",
   "execution_count": 15,
   "metadata": {},
   "outputs": [
    {
     "name": "stdout",
     "output_type": "stream",
     "text": [
      "Average Math score is 64.66666666666667\n",
      "Maximum Math score is 85.0\n",
      "Minimum Math score is 55.0\n",
      "Standard variation of Math score is 9.860132971832694\n"
     ]
    }
   ],
   "source": [
    "math_score[4]=55\n",
    "print('Average Math score is',np.nanmean(math_score))\n",
    "print('Maximum Math score is',np.nanmax(math_score))\n",
    "print('Minimum Math score is',np.nanmin(math_score))\n",
    "print('Standard variation of Math score is',np.nanstd(math_score))"
   ]
  },
  {
   "cell_type": "code",
   "execution_count": 27,
   "metadata": {},
   "outputs": [
    {
     "name": "stdout",
     "output_type": "stream",
     "text": [
      "English_score is more correlated with chinese score than that of Math score\n"
     ]
    }
   ],
   "source": [
    "b=np.corrcoef(chinese_score, math_score)\n",
    "c=np.corrcoef(chinese_score, english_score)\n",
    "if sum(np.ravel(b))-sum(np.ravel(c))>0:\n",
    "    print(\"Math_score is more correlated with chinese score than that of English score\")\n",
    "else:\n",
    "    print(\"English_score is more correlated with chinese score than that of Math score\")"
   ]
  },
  {
   "cell_type": "markdown",
   "metadata": {},
   "source": []
  },
  {
   "cell_type": "code",
   "execution_count": null,
   "metadata": {},
   "outputs": [],
   "source": []
  }
 ],
 "metadata": {
  "kernelspec": {
   "display_name": "Python 3",
   "language": "python",
   "name": "python3"
  },
  "language_info": {
   "codemirror_mode": {
    "name": "ipython",
    "version": 3
   },
   "file_extension": ".py",
   "mimetype": "text/x-python",
   "name": "python",
   "nbconvert_exporter": "python",
   "pygments_lexer": "ipython3",
   "version": "3.8.5"
  }
 },
 "nbformat": 4,
 "nbformat_minor": 4
}
