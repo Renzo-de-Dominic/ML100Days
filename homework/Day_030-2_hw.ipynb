{
 "cells": [
  {
   "cell_type": "code",
   "execution_count": 2,
   "metadata": {},
   "outputs": [
    {
     "name": "stdout",
     "output_type": "stream",
     "text": [
      "A1: 0.8413447460685429\n",
      "A2: 0.31731050786291426\n",
      "A3: 0.5987063256829237\n"
     ]
    }
   ],
   "source": [
    "from scipy.stats import norm\n",
    "#Q1：計算標準常態分配，小於 1 的機率有多大？\n",
    "print(\"A1:\",norm.cdf(1))\n",
    "#Q2：計算標準常態分配，大於1，小於 -1 的機率有多大？\n",
    "print(\"A2:\",norm.cdf(-1)+norm.cdf(10)-norm.cdf(1))\n",
    "#Q3：X~N(2,4),x 服從常態分配，平均數為2,變異數為 4，計算 X小於 6 的機率有多大?\n",
    "print(\"A3:\",norm.cdf(3,2,4))"
   ]
  },
  {
   "cell_type": "code",
   "execution_count": null,
   "metadata": {},
   "outputs": [],
   "source": []
  }
 ],
 "metadata": {
  "kernelspec": {
   "display_name": "Python 3",
   "language": "python",
   "name": "python3"
  },
  "language_info": {
   "codemirror_mode": {
    "name": "ipython",
    "version": 3
   },
   "file_extension": ".py",
   "mimetype": "text/x-python",
   "name": "python",
   "nbconvert_exporter": "python",
   "pygments_lexer": "ipython3",
   "version": "3.8.5"
  }
 },
 "nbformat": 4,
 "nbformat_minor": 4
}
