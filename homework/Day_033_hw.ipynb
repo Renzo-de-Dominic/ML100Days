{
 "cells": [
  {
   "cell_type": "code",
   "execution_count": 1,
   "metadata": {},
   "outputs": [
    {
     "name": "stdout",
     "output_type": "stream",
     "text": [
      "𝛼變小; 𝛽變大\n",
      "𝛼變大; 𝛽變小\n",
      "有\n"
     ]
    }
   ],
   "source": [
    "#在課堂中，檢定 𝐻_0:𝜇≤0， 𝐻_1:𝜇>0 ，假設在 𝐻_0 為真下，分配為 N(0,1)， 𝐻_1 為真下，分配為 N(2,1)。\n",
    "#假設 𝑋 ̅>1，拒絕 𝐻_0。\n",
    "#如果拒絕域改變時，𝛼 和 𝛽 會怎樣變化，\n",
    "#![](sample mean 1.png) 可以拿起一張紙，試著畫畫看，就能找到答案。\n",
    "\n",
    "#Q1: 假設 𝑋 ̅>2，拒絕 𝐻_0，𝛼 會變大/變小? 𝛽 會變大/變小?\n",
    "print(\"𝛼變小; 𝛽變大\")\n",
    "#Q2: 假設 𝑋 ̅>0.2，拒絕 𝐻_0，𝛼 會變大/變小? 𝛽 會變大/變小?\n",
    "print(\"𝛼變大; 𝛽變小\")\n",
    "#Q3: 𝛼 和 𝛽 有關聯性?\n",
    "print(\"有\")"
   ]
  },
  {
   "cell_type": "code",
   "execution_count": null,
   "metadata": {},
   "outputs": [],
   "source": []
  }
 ],
 "metadata": {
  "kernelspec": {
   "display_name": "Python 3",
   "language": "python",
   "name": "python3"
  },
  "language_info": {
   "codemirror_mode": {
    "name": "ipython",
    "version": 3
   },
   "file_extension": ".py",
   "mimetype": "text/x-python",
   "name": "python",
   "nbconvert_exporter": "python",
   "pygments_lexer": "ipython3",
   "version": "3.8.5"
  }
 },
 "nbformat": 4,
 "nbformat_minor": 4
}
