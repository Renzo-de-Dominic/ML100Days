{
 "cells": [
  {
   "cell_type": "code",
   "execution_count": 1,
   "metadata": {},
   "outputs": [],
   "source": [
    "# library\n",
    "import matplotlib.pyplot as plt\n",
    "import numpy as np\n",
    "import pandas as pd\n",
    "from scipy import stats\n",
    "import math\n",
    "import statistics\n",
    "import seaborn as sns"
   ]
  },
  {
   "cell_type": "code",
   "execution_count": 28,
   "metadata": {},
   "outputs": [
    {
     "name": "stdout",
     "output_type": "stream",
     "text": [
      "0    165.95\n",
      "dtype: float64\n",
      "0    165.0\n",
      "dtype: float64\n",
      "0   -0.51043\n",
      "dtype: float64\n",
      "0    0.625456\n",
      "dtype: float64\n",
      "0    9.213691\n",
      "dtype: float64\n",
      "0    168.3\n",
      "dtype: float64\n",
      "0    169.0\n",
      "dtype: float64\n",
      "0    0.06482\n",
      "dtype: float64\n",
      "0   -0.697137\n",
      "dtype: float64\n",
      "0    95.378947\n",
      "dtype: float64\n",
      "0    9.766215\n",
      "dtype: float64\n"
     ]
    }
   ],
   "source": [
    "#Q1:試著用今天所教的內容，如何描述這兩組資料的樣態?\n",
    "boy=pd.DataFrame([164,175,183,173,176,159,165,165,169,151,163,156,169,144,170,177,165,160,164,171])\n",
    "girl=pd.DataFrame([169,170,162,154,183,173,169,167,170,185,162,175,168,151,181,170,182,156,159,160])\n",
    "print(boy.mean())\n",
    "print(boy.median())\n",
    "print(boy.skew(axis=0))\n",
    "print(boy.kurtosis())\n",
    "print(boy.std())\n",
    "\n",
    "print(girl.mean())\n",
    "print(girl.median())\n",
    "print(girl.skew(axis=0))\n",
    "print(girl.kurtosis())\n",
    "print(girl.var())\n",
    "print(girl.std())\n",
    "#兩性身高分布皆為單峰; 男為左偏態，女為微右偏態; 男為高峻峰，女為低闊峰"
   ]
  },
  {
   "cell_type": "code",
   "execution_count": 3,
   "metadata": {},
   "outputs": [],
   "source": [
    "#Q2: 請問男生和女生在平均身高上誰比較高? \n",
    "#女生"
   ]
  },
  {
   "cell_type": "code",
   "execution_count": 4,
   "metadata": {},
   "outputs": [],
   "source": [
    "#Q3:請問第二題的答案和日常生活中觀察的一致嗎? 如果不一致，你覺得原因可能為何? \n",
    "#不同人種男女 或 同人種成長中男女"
   ]
  },
  {
   "cell_type": "code",
   "execution_count": null,
   "metadata": {},
   "outputs": [],
   "source": []
  }
 ],
 "metadata": {
  "kernelspec": {
   "display_name": "Python 3",
   "language": "python",
   "name": "python3"
  },
  "language_info": {
   "codemirror_mode": {
    "name": "ipython",
    "version": 3
   },
   "file_extension": ".py",
   "mimetype": "text/x-python",
   "name": "python",
   "nbconvert_exporter": "python",
   "pygments_lexer": "ipython3",
   "version": "3.8.5"
  }
 },
 "nbformat": 4,
 "nbformat_minor": 4
}
